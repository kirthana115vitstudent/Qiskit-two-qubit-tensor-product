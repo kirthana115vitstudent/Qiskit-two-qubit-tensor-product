{
  "nbformat": 4,
  "nbformat_minor": 0,
  "metadata": {
    "colab": {
      "provenance": []
    },
    "kernelspec": {
      "name": "python3",
      "display_name": "Python 3"
    },
    "language_info": {
      "name": "python"
    }
  },
  "cells": [
    {
      "cell_type": "code",
      "execution_count": 1,
      "metadata": {
        "colab": {
          "base_uri": "https://localhost:8080/"
        },
        "id": "v2hK6yWUuU4f",
        "outputId": "ebb2ef0a-b1ed-45a1-8519-69f93fcac849"
      },
      "outputs": [
        {
          "output_type": "stream",
          "name": "stdout",
          "text": [
            "Collecting qiskit\n",
            "  Downloading qiskit-2.2.2-cp39-abi3-manylinux2014_x86_64.manylinux_2_17_x86_64.whl.metadata (12 kB)\n",
            "Collecting qiskit-aer\n",
            "  Downloading qiskit_aer-0.17.2-cp312-cp312-manylinux_2_17_x86_64.manylinux2014_x86_64.whl.metadata (8.3 kB)\n",
            "Collecting pylatexenc\n",
            "  Downloading pylatexenc-2.10.tar.gz (162 kB)\n",
            "\u001b[2K     \u001b[90m━━━━━━━━━━━━━━━━━━━━━━━━━━━━━━━━━━━━━━━\u001b[0m \u001b[32m162.6/162.6 kB\u001b[0m \u001b[31m3.6 MB/s\u001b[0m eta \u001b[36m0:00:00\u001b[0m\n",
            "\u001b[?25h  Preparing metadata (setup.py) ... \u001b[?25l\u001b[?25hdone\n",
            "Collecting rustworkx>=0.15.0 (from qiskit)\n",
            "  Downloading rustworkx-0.17.1-cp39-abi3-manylinux_2_17_x86_64.manylinux2014_x86_64.whl.metadata (10 kB)\n",
            "Requirement already satisfied: numpy<3,>=1.17 in /usr/local/lib/python3.12/dist-packages (from qiskit) (2.0.2)\n",
            "Requirement already satisfied: scipy>=1.5 in /usr/local/lib/python3.12/dist-packages (from qiskit) (1.16.2)\n",
            "Requirement already satisfied: dill>=0.3 in /usr/local/lib/python3.12/dist-packages (from qiskit) (0.3.8)\n",
            "Collecting stevedore>=3.0.0 (from qiskit)\n",
            "  Downloading stevedore-5.5.0-py3-none-any.whl.metadata (2.2 kB)\n",
            "Requirement already satisfied: typing-extensions in /usr/local/lib/python3.12/dist-packages (from qiskit) (4.15.0)\n",
            "Requirement already satisfied: psutil>=5 in /usr/local/lib/python3.12/dist-packages (from qiskit-aer) (5.9.5)\n",
            "Requirement already satisfied: python-dateutil>=2.8.0 in /usr/local/lib/python3.12/dist-packages (from qiskit-aer) (2.9.0.post0)\n",
            "Requirement already satisfied: six>=1.5 in /usr/local/lib/python3.12/dist-packages (from python-dateutil>=2.8.0->qiskit-aer) (1.17.0)\n",
            "Downloading qiskit-2.2.2-cp39-abi3-manylinux2014_x86_64.manylinux_2_17_x86_64.whl (8.0 MB)\n",
            "\u001b[2K   \u001b[90m━━━━━━━━━━━━━━━━━━━━━━━━━━━━━━━━━━━━━━━━\u001b[0m \u001b[32m8.0/8.0 MB\u001b[0m \u001b[31m82.2 MB/s\u001b[0m eta \u001b[36m0:00:00\u001b[0m\n",
            "\u001b[?25hDownloading qiskit_aer-0.17.2-cp312-cp312-manylinux_2_17_x86_64.manylinux2014_x86_64.whl (12.4 MB)\n",
            "\u001b[2K   \u001b[90m━━━━━━━━━━━━━━━━━━━━━━━━━━━━━━━━━━━━━━━━\u001b[0m \u001b[32m12.4/12.4 MB\u001b[0m \u001b[31m96.9 MB/s\u001b[0m eta \u001b[36m0:00:00\u001b[0m\n",
            "\u001b[?25hDownloading rustworkx-0.17.1-cp39-abi3-manylinux_2_17_x86_64.manylinux2014_x86_64.whl (2.2 MB)\n",
            "\u001b[2K   \u001b[90m━━━━━━━━━━━━━━━━━━━━━━━━━━━━━━━━━━━━━━━━\u001b[0m \u001b[32m2.2/2.2 MB\u001b[0m \u001b[31m71.4 MB/s\u001b[0m eta \u001b[36m0:00:00\u001b[0m\n",
            "\u001b[?25hDownloading stevedore-5.5.0-py3-none-any.whl (49 kB)\n",
            "\u001b[2K   \u001b[90m━━━━━━━━━━━━━━━━━━━━━━━━━━━━━━━━━━━━━━━━\u001b[0m \u001b[32m49.5/49.5 kB\u001b[0m \u001b[31m2.8 MB/s\u001b[0m eta \u001b[36m0:00:00\u001b[0m\n",
            "\u001b[?25hBuilding wheels for collected packages: pylatexenc\n",
            "  Building wheel for pylatexenc (setup.py) ... \u001b[?25l\u001b[?25hdone\n",
            "  Created wheel for pylatexenc: filename=pylatexenc-2.10-py3-none-any.whl size=136817 sha256=19a7df67355453d8baea495f56d6ad27c8931626c6f3d1f1dcb95b562ad90709\n",
            "  Stored in directory: /root/.cache/pip/wheels/06/3e/78/fa1588c1ae991bbfd814af2bcac6cef7a178beee1939180d46\n",
            "Successfully built pylatexenc\n",
            "Installing collected packages: pylatexenc, stevedore, rustworkx, qiskit, qiskit-aer\n",
            "Successfully installed pylatexenc-2.10 qiskit-2.2.2 qiskit-aer-0.17.2 rustworkx-0.17.1 stevedore-5.5.0\n"
          ]
        }
      ],
      "source": [
        "!pip install qiskit qiskit-aer pylatexenc"
      ]
    },
    {
      "cell_type": "code",
      "source": [
        "from qiskit import QuantumCircuit, transpile\n",
        "from qiskit_aer import AerSimulator\n",
        "from qiskit.visualization import plot_histogram, plot_bloch_multivector\n",
        "from qiskit.quantum_info import Statevector\n",
        "import matplotlib.pyplot as plt"
      ],
      "metadata": {
        "id": "RRfsGlFpufV3"
      },
      "execution_count": 2,
      "outputs": []
    },
    {
      "cell_type": "code",
      "source": [
        "simulator = AerSimulator()"
      ],
      "metadata": {
        "id": "ywfluX5qujEH"
      },
      "execution_count": 3,
      "outputs": []
    },
    {
      "cell_type": "code",
      "source": [
        "qc1 = QuantumCircuit(2, 2)\n",
        "qc1.h(0)\n",
        "qc1.h(1)\n",
        "qc1.measure([0, 1], [0, 1])\n",
        "\n",
        "compiled_qc1 = transpile(qc1, simulator)\n",
        "result1 = simulator.run(compiled_qc1, shots=1024).result()\n",
        "counts1 = result1.get_counts()\n",
        "\n",
        "print(\"🔹 Hadamard on both qubits:\")\n",
        "print(counts1)\n",
        "plot_histogram(counts1)\n",
        "plt.show()"
      ],
      "metadata": {
        "colab": {
          "base_uri": "https://localhost:8080/"
        },
        "id": "RqqOSVmHul-t",
        "outputId": "b314d81f-9845-471e-ca9e-218bb489240b"
      },
      "execution_count": 4,
      "outputs": [
        {
          "output_type": "stream",
          "name": "stdout",
          "text": [
            "🔹 Hadamard on both qubits:\n",
            "{'01': 251, '11': 251, '10': 263, '00': 259}\n"
          ]
        }
      ]
    },
    {
      "cell_type": "code",
      "source": [
        "qc2 = QuantumCircuit(2, 2)\n",
        "qc2.x(1)   # Apply X on qubit 1 instead of qubit 0\n",
        "qc2.measure([0, 1], [0, 1])\n",
        "\n",
        "compiled_qc2 = transpile(qc2, simulator)\n",
        "result2 = simulator.run(compiled_qc2, shots=1024).result()\n",
        "counts2 = result2.get_counts()\n",
        "\n",
        "print(\"\\n🔹 X gate on second qubit:\")\n",
        "print(counts2)\n",
        "plot_histogram(counts2)\n",
        "plt.show()"
      ],
      "metadata": {
        "colab": {
          "base_uri": "https://localhost:8080/"
        },
        "id": "I5tBKAfnupYN",
        "outputId": "69349791-37fa-4d91-9fdf-b689d7abcf62"
      },
      "execution_count": 5,
      "outputs": [
        {
          "output_type": "stream",
          "name": "stdout",
          "text": [
            "\n",
            "🔹 X gate on second qubit:\n",
            "{'10': 1024}\n"
          ]
        }
      ]
    },
    {
      "cell_type": "code",
      "source": [
        "qc3 = QuantumCircuit(2, 2)\n",
        "qc3.h(0)\n",
        "qc3.cx(0, 1)\n",
        "qc3.measure([0, 1], [0, 1])\n",
        "\n",
        "compiled_qc3 = transpile(qc3, simulator)\n",
        "result3 = simulator.run(compiled_qc3, shots=1024).result()\n",
        "counts3 = result3.get_counts()\n",
        "\n",
        "print(\"\\n🔹 Entangled State (Bell State):\")\n",
        "print(counts3)\n",
        "plt.show()"
      ],
      "metadata": {
        "colab": {
          "base_uri": "https://localhost:8080/"
        },
        "id": "ZY2GWSgbutzj",
        "outputId": "9334733d-7103-488f-ffc0-ab9ece1950f7"
      },
      "execution_count": 6,
      "outputs": [
        {
          "output_type": "stream",
          "name": "stdout",
          "text": [
            "\n",
            "🔹 Entangled State (Bell State):\n",
            "{'11': 485, '00': 539}\n"
          ]
        }
      ]
    },
    {
      "cell_type": "code",
      "source": [
        "job4 = simulator.run(compiled_qc3, shots=4096)\n",
        "result4 = job4.result()\n",
        "counts4 = result4.get_counts()\n",
        "\n",
        "print(\"\\n🔹 Increased shots to 4096:\")\n",
        "print(counts4)\n",
        "plot_histogram(counts4)\n",
        "plt.show()"
      ],
      "metadata": {
        "colab": {
          "base_uri": "https://localhost:8080/"
        },
        "id": "C5DS1gXuuzji",
        "outputId": "6a856f26-8fc6-48c2-acc7-c12ffb4dbc5b"
      },
      "execution_count": 7,
      "outputs": [
        {
          "output_type": "stream",
          "name": "stdout",
          "text": [
            "\n",
            "🔹 Increased shots to 4096:\n",
            "{'00': 2044, '11': 2052}\n"
          ]
        }
      ]
    },
    {
      "cell_type": "code",
      "source": [
        "qc5 = QuantumCircuit(2)\n",
        "qc5.h(0)\n",
        "qc5.cx(0, 1)\n",
        "state = Statevector.from_instruction(qc5)\n",
        "plot_bloch_multivector(state)\n",
        "plt.show()\n"
      ],
      "metadata": {
        "id": "gxekB5pQu2xb"
      },
      "execution_count": 8,
      "outputs": []
    }
  ]
}